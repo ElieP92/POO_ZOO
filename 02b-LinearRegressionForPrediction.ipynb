{
 "cells": [
  {
   "cell_type": "markdown",
   "metadata": {},
   "source": [
    "# Linear regression for prediction\n",
    "\n",
    "For the remainder of the module we will look at using linear regression in a more algorithmic/computer science/machine learning context. In this notebook we will take a more detailed look at conducting linear regression in `scikit-learn`, you will:\n",
    "* write your own code to compute MSE\n",
    "* Learn what training and testing sets are\n",
    "* Use `scikit-learn` to perform a multiple linear regression\n",
    "* Evaluate your results\n",
    "* Create a model to predict housing prices\n"
   ]
  },
  {
   "cell_type": "markdown",
   "metadata": {},
   "source": [
    "## Assesing model accuracy\n",
    "\n",
    "We always must evaluate how 'good' our model is in order to understand how it performs. One common meaure of accuracy (or error) for a regression type problem is **Mean Squared Error (MSE)**. This can be calculated using the following formula:\n",
    "\n",
    "<div style=\"font-size: 120%;\">  \n",
    "$$ MSE = \\frac{1}{n} \\sum_{i=1}^n (y_i − \\hat{f}(x_i))^2, $$\n",
    "</div>\n",
    "\n",
    "where $y_i$ is the true values and $\\hat{f}(x_i)$ is the predicted values by our model over $n$ samples.\n",
    "\n",
    "### Excercise 1: write a function to calculate MSE\n",
    "\n",
    "Given the lists of true values and predictions write a function that calculates the MSE of this data. \n",
    "\n",
    "\n",
    "HINT\n",
    "* using numpy arrays will make this much easier."
   ]
  },
  {
   "cell_type": "code",
   "execution_count": 1,
   "metadata": {},
   "outputs": [],
   "source": [
    "import numpy as np\n",
    "import pandas as pd\n",
    "import matplotlib.pyplot as plt"
   ]
  },
  {
   "cell_type": "code",
   "execution_count": 4,
   "metadata": {},
   "outputs": [],
   "source": [
    "true_values = [13.9, 20.3, 2.1, 8.8, 5.2]\n",
    "predicted_vals = [14.3, 18.9, 3.4, 8.9, 5.0]"
   ]
  },
  {
   "cell_type": "code",
   "execution_count": 1,
   "metadata": {},
   "outputs": [],
   "source": [
    "### your solution here\n",
    "def MSE(true_val,predicted_val):\n",
    "    n = len(true_val)\n",
    "    somme = 0\n",
    "    for i in range(n):\n",
    "        somme = somme + (true_val[i]-predicted_val[i])**2\n",
    "    mse = 1/n*(somme)\n",
    "    return mse"
   ]
  },
  {
   "cell_type": "code",
   "execution_count": 5,
   "metadata": {},
   "outputs": [
    {
     "data": {
      "text/plain": [
       "0.7720000000000011"
      ]
     },
     "execution_count": 5,
     "metadata": {},
     "output_type": "execute_result"
    }
   ],
   "source": [
    "MSE(true_values,predicted_vals)"
   ]
  },
  {
   "cell_type": "markdown",
   "metadata": {},
   "source": [
    "### MSE evaluation in sklearn"
   ]
  },
  {
   "cell_type": "markdown",
   "metadata": {},
   "source": [
    "`Scikit-Learn` provides a function to calculate MSE (as well as other useful performance metrics) so that you dont have to carry around your function to all the different projects you work on. We can use this to evaluate our function and check that we got the correct answer in the excercise above."
   ]
  },
  {
   "cell_type": "code",
   "execution_count": 6,
   "metadata": {},
   "outputs": [
    {
     "data": {
      "text/plain": [
       "0.7720000000000011"
      ]
     },
     "execution_count": 6,
     "metadata": {},
     "output_type": "execute_result"
    }
   ],
   "source": [
    "from sklearn.metrics import mean_squared_error\n",
    "\n",
    "mean_squared_error(true_values, predicted_vals)"
   ]
  },
  {
   "cell_type": "markdown",
   "metadata": {},
   "source": [
    "**Task 1**: Other evaluation metrics\n",
    "* Find at least 2 other metrics that exist in `Scikit-Learn` that can be used in regression problems.\n",
    "* Calculate the errors of these on the hypothetical data we used above."
   ]
  },
  {
   "cell_type": "code",
   "execution_count": null,
   "metadata": {},
   "outputs": [],
   "source": [
    "#### your solution here\n",
    "    Mean Absolute Error (MAE): Cette métrique mesure la moyenne des valeurs absolues \n",
    "        des différences entre les valeurs prédites et les valeurs réelles. \n",
    "\n",
    "    R-squared (R²) : Cette métrique mesure la proportion de variance des variables \n",
    "        dépendantes qui peut être expliquée par les variables indépendantes du modèle. \n",
    "    "
   ]
  },
  {
   "cell_type": "code",
   "execution_count": null,
   "metadata": {},
   "outputs": [],
   "source": []
  },
  {
   "cell_type": "code",
   "execution_count": 10,
   "metadata": {},
   "outputs": [
    {
     "name": "stdout",
     "output_type": "stream",
     "text": [
      "mae:  0.6800000000000004\n",
      "R²:  0.9814576407970332\n"
     ]
    }
   ],
   "source": [
    "from sklearn.metrics import mean_absolute_error, r2_score\n",
    "\n",
    "mae = mean_absolute_error(true_values, predicted_vals)\n",
    "\n",
    "r2 = r2_score(true_values, predicted_vals)\n",
    "\n",
    "print(\"mae: \", mae)\n",
    "print(\"R²: \", r2)"
   ]
  },
  {
   "cell_type": "markdown",
   "metadata": {},
   "source": [
    "## Training and testing sets\n",
    "\n",
    "When building models for prediction we are most interested in building a model that will generalise well to new sets of data that we will encounter in the future. Strictly speaking what we have calculated above is a *training MSE*, which means that the calculation of MSE was performed on the same data samples the model was fitted to. \n",
    " \n",
    "One good way to asses whether our model will be useful on new data sets is to fit our model only to a subset of the data, and then use new data the model has not seen to produce a prediction which we can evaluate. We saw this process in the previous notebook when we introduced `scikit-learn` and Logistic Regression.\n",
    "\n",
    "Here is another example:"
   ]
  },
  {
   "cell_type": "code",
   "execution_count": 11,
   "metadata": {},
   "outputs": [],
   "source": [
    "from sklearn.datasets import load_diabetes\n",
    "diabs = load_diabetes()"
   ]
  },
  {
   "cell_type": "code",
   "execution_count": 12,
   "metadata": {},
   "outputs": [
    {
     "name": "stdout",
     "output_type": "stream",
     "text": [
      ".. _diabetes_dataset:\n",
      "\n",
      "Diabetes dataset\n",
      "----------------\n",
      "\n",
      "Ten baseline variables, age, sex, body mass index, average blood\n",
      "pressure, and six blood serum measurements were obtained for each of n =\n",
      "442 diabetes patients, as well as the response of interest, a\n",
      "quantitative measure of disease progression one year after baseline.\n",
      "\n",
      "**Data Set Characteristics:**\n",
      "\n",
      "  :Number of Instances: 442\n",
      "\n",
      "  :Number of Attributes: First 10 columns are numeric predictive values\n",
      "\n",
      "  :Target: Column 11 is a quantitative measure of disease progression one year after baseline\n",
      "\n",
      "  :Attribute Information:\n",
      "      - age     age in years\n",
      "      - sex\n",
      "      - bmi     body mass index\n",
      "      - bp      average blood pressure\n",
      "      - s1      tc, total serum cholesterol\n",
      "      - s2      ldl, low-density lipoproteins\n",
      "      - s3      hdl, high-density lipoproteins\n",
      "      - s4      tch, total cholesterol / HDL\n",
      "      - s5      ltg, possibly log of serum triglycerides level\n",
      "      - s6      glu, blood sugar level\n",
      "\n",
      "Note: Each of these 10 feature variables have been mean centered and scaled by the standard deviation times `n_samples` (i.e. the sum of squares of each column totals 1).\n",
      "\n",
      "Source URL:\n",
      "https://www4.stat.ncsu.edu/~boos/var.select/diabetes.html\n",
      "\n",
      "For more information see:\n",
      "Bradley Efron, Trevor Hastie, Iain Johnstone and Robert Tibshirani (2004) \"Least Angle Regression,\" Annals of Statistics (with discussion), 407-499.\n",
      "(https://web.stanford.edu/~hastie/Papers/LARS/LeastAngle_2002.pdf)\n"
     ]
    }
   ],
   "source": [
    "print(diabs.DESCR)"
   ]
  },
  {
   "cell_type": "code",
   "execution_count": 10,
   "metadata": {},
   "outputs": [
    {
     "data": {
      "text/plain": [
       "(442, 10)"
      ]
     },
     "execution_count": 10,
     "metadata": {},
     "output_type": "execute_result"
    }
   ],
   "source": [
    "diabs.data.shape"
   ]
  },
  {
   "cell_type": "code",
   "execution_count": 11,
   "metadata": {},
   "outputs": [
    {
     "data": {
      "text/plain": [
       "(442,)"
      ]
     },
     "execution_count": 11,
     "metadata": {},
     "output_type": "execute_result"
    }
   ],
   "source": [
    "diabs.target.shape"
   ]
  },
  {
   "cell_type": "code",
   "execution_count": 14,
   "metadata": {},
   "outputs": [],
   "source": [
    "import pandas as pd\n",
    "\n",
    "X = pd.DataFrame(diabs.data, columns=diabs.feature_names)\n",
    "y = diabs.target"
   ]
  },
  {
   "cell_type": "code",
   "execution_count": 13,
   "metadata": {},
   "outputs": [
    {
     "data": {
      "text/html": [
       "<div>\n",
       "<style scoped>\n",
       "    .dataframe tbody tr th:only-of-type {\n",
       "        vertical-align: middle;\n",
       "    }\n",
       "\n",
       "    .dataframe tbody tr th {\n",
       "        vertical-align: top;\n",
       "    }\n",
       "\n",
       "    .dataframe thead th {\n",
       "        text-align: right;\n",
       "    }\n",
       "</style>\n",
       "<table border=\"1\" class=\"dataframe\">\n",
       "  <thead>\n",
       "    <tr style=\"text-align: right;\">\n",
       "      <th></th>\n",
       "      <th>age</th>\n",
       "      <th>sex</th>\n",
       "      <th>bmi</th>\n",
       "      <th>bp</th>\n",
       "      <th>s1</th>\n",
       "      <th>s2</th>\n",
       "      <th>s3</th>\n",
       "      <th>s4</th>\n",
       "      <th>s5</th>\n",
       "      <th>s6</th>\n",
       "    </tr>\n",
       "  </thead>\n",
       "  <tbody>\n",
       "    <tr>\n",
       "      <th>0</th>\n",
       "      <td>0.038076</td>\n",
       "      <td>0.050680</td>\n",
       "      <td>0.061696</td>\n",
       "      <td>0.021872</td>\n",
       "      <td>-0.044223</td>\n",
       "      <td>-0.034821</td>\n",
       "      <td>-0.043401</td>\n",
       "      <td>-0.002592</td>\n",
       "      <td>0.019908</td>\n",
       "      <td>-0.017646</td>\n",
       "    </tr>\n",
       "    <tr>\n",
       "      <th>1</th>\n",
       "      <td>-0.001882</td>\n",
       "      <td>-0.044642</td>\n",
       "      <td>-0.051474</td>\n",
       "      <td>-0.026328</td>\n",
       "      <td>-0.008449</td>\n",
       "      <td>-0.019163</td>\n",
       "      <td>0.074412</td>\n",
       "      <td>-0.039493</td>\n",
       "      <td>-0.068330</td>\n",
       "      <td>-0.092204</td>\n",
       "    </tr>\n",
       "    <tr>\n",
       "      <th>2</th>\n",
       "      <td>0.085299</td>\n",
       "      <td>0.050680</td>\n",
       "      <td>0.044451</td>\n",
       "      <td>-0.005671</td>\n",
       "      <td>-0.045599</td>\n",
       "      <td>-0.034194</td>\n",
       "      <td>-0.032356</td>\n",
       "      <td>-0.002592</td>\n",
       "      <td>0.002864</td>\n",
       "      <td>-0.025930</td>\n",
       "    </tr>\n",
       "    <tr>\n",
       "      <th>3</th>\n",
       "      <td>-0.089063</td>\n",
       "      <td>-0.044642</td>\n",
       "      <td>-0.011595</td>\n",
       "      <td>-0.036656</td>\n",
       "      <td>0.012191</td>\n",
       "      <td>0.024991</td>\n",
       "      <td>-0.036038</td>\n",
       "      <td>0.034309</td>\n",
       "      <td>0.022692</td>\n",
       "      <td>-0.009362</td>\n",
       "    </tr>\n",
       "    <tr>\n",
       "      <th>4</th>\n",
       "      <td>0.005383</td>\n",
       "      <td>-0.044642</td>\n",
       "      <td>-0.036385</td>\n",
       "      <td>0.021872</td>\n",
       "      <td>0.003935</td>\n",
       "      <td>0.015596</td>\n",
       "      <td>0.008142</td>\n",
       "      <td>-0.002592</td>\n",
       "      <td>-0.031991</td>\n",
       "      <td>-0.046641</td>\n",
       "    </tr>\n",
       "  </tbody>\n",
       "</table>\n",
       "</div>"
      ],
      "text/plain": [
       "        age       sex       bmi        bp        s1        s2        s3  \\\n",
       "0  0.038076  0.050680  0.061696  0.021872 -0.044223 -0.034821 -0.043401   \n",
       "1 -0.001882 -0.044642 -0.051474 -0.026328 -0.008449 -0.019163  0.074412   \n",
       "2  0.085299  0.050680  0.044451 -0.005671 -0.045599 -0.034194 -0.032356   \n",
       "3 -0.089063 -0.044642 -0.011595 -0.036656  0.012191  0.024991 -0.036038   \n",
       "4  0.005383 -0.044642 -0.036385  0.021872  0.003935  0.015596  0.008142   \n",
       "\n",
       "         s4        s5        s6  \n",
       "0 -0.002592  0.019908 -0.017646  \n",
       "1 -0.039493 -0.068330 -0.092204  \n",
       "2 -0.002592  0.002864 -0.025930  \n",
       "3  0.034309  0.022692 -0.009362  \n",
       "4 -0.002592 -0.031991 -0.046641  "
      ]
     },
     "execution_count": 13,
     "metadata": {},
     "output_type": "execute_result"
    }
   ],
   "source": [
    "X.head()"
   ]
  },
  {
   "cell_type": "code",
   "execution_count": 14,
   "metadata": {},
   "outputs": [
    {
     "data": {
      "text/plain": [
       "array([151.,  75., 141., 206., 135.])"
      ]
     },
     "execution_count": 14,
     "metadata": {},
     "output_type": "execute_result"
    }
   ],
   "source": [
    "y[:5]"
   ]
  },
  {
   "cell_type": "markdown",
   "metadata": {},
   "source": [
    "We split the data into a test and training set."
   ]
  },
  {
   "cell_type": "code",
   "execution_count": 15,
   "metadata": {},
   "outputs": [],
   "source": [
    "from sklearn.model_selection import train_test_split\n",
    "X_train, X_test, y_train, y_test = train_test_split(X, y, random_state = 18)"
   ]
  },
  {
   "cell_type": "markdown",
   "metadata": {},
   "source": [
    "Fitting a linear regression model."
   ]
  },
  {
   "cell_type": "code",
   "execution_count": 16,
   "metadata": {},
   "outputs": [
    {
     "name": "stdout",
     "output_type": "stream",
     "text": [
      "test MSE: 3006.0733911079724\n"
     ]
    }
   ],
   "source": [
    "from sklearn.linear_model import LinearRegression\n",
    "\n",
    "# fit model to training data\n",
    "model = LinearRegression()\n",
    "model.fit(X_train, y_train)\n",
    "\n",
    "# predict y values for testing data set\n",
    "y_pred_test = model.predict(X_test)\n",
    "\n",
    "# evaluate MSE\n",
    "mse_test = mean_squared_error(y_test, y_pred_test)\n",
    "print('test MSE: {0}'.format(mse_test))"
   ]
  },
  {
   "cell_type": "markdown",
   "metadata": {},
   "source": [
    "We can also use this model to predict values on the train set, and evaluate the MSE. Comparing the two MSE scores gives us information on whether the model is overfitting or not. Normally we would compare these scores with other types of models (for example *support vector machines* or *random forests*...) that we have built in order to understand which model is best for the particular problem we are trying to solve. We almost always expect the *training error* to be lower than the *test error* (i.e. our performance reduces (or MSE increases) slightly when we move to new data the model has not seen."
   ]
  },
  {
   "cell_type": "code",
   "execution_count": 17,
   "metadata": {},
   "outputs": [
    {
     "name": "stdout",
     "output_type": "stream",
     "text": [
      "training MSE: 2864.886357101882\n"
     ]
    }
   ],
   "source": [
    "y_pred_train = model.predict(X_train)\n",
    "mse_train = mean_squared_error(y_train, y_pred_train)\n",
    "print('training MSE: {0}'.format(mse_train))"
   ]
  },
  {
   "cell_type": "markdown",
   "metadata": {},
   "source": [
    "## Note: interpreting MSE\n",
    "\n",
    "MSE is not particularly intuitive to help understand how well your model predicts. In order to interpret how well our model is doing we could convert MSE to something with similar units to the target variable by taking the square root. This would be **Root Mean Squared Error** or **RMSE**.\n",
    "\n",
    "<br/>\n",
    "\n",
    "<div style=\"font-size: 120%;\">\n",
    "$$ RMSE = \\sqrt{MSE}$$\n",
    "</div>"
   ]
  },
  {
   "cell_type": "code",
   "execution_count": 18,
   "metadata": {},
   "outputs": [],
   "source": [
    "import numpy as np"
   ]
  },
  {
   "cell_type": "code",
   "execution_count": 19,
   "metadata": {},
   "outputs": [
    {
     "name": "stdout",
     "output_type": "stream",
     "text": [
      "RMSE: 54.82766994053251\n"
     ]
    }
   ],
   "source": [
    "rmse_test = np.sqrt(mse_test)\n",
    "print('RMSE: {0}'.format(rmse_test))"
   ]
  },
  {
   "cell_type": "markdown",
   "metadata": {},
   "source": [
    "If we do some simple descriptive stats on the target variable for the training set, we can see that our model is finding a solution on average within one standard deviation of the variance of the target. This type of analysis can give us some confidence whether our model is remotely useful or not!"
   ]
  },
  {
   "cell_type": "code",
   "execution_count": 20,
   "metadata": {},
   "outputs": [
    {
     "name": "stdout",
     "output_type": "stream",
     "text": [
      "Mean (standard deviation) values of target variables in train set: 150.93655589123867 (76.63854952919398)\n"
     ]
    }
   ],
   "source": [
    "mean  = np.mean(y_train)\n",
    "std = np.std(y_train)\n",
    "print('Mean (standard deviation) values of target variables in train set: {0} ({1})'.format(mean, std))"
   ]
  },
  {
   "cell_type": "markdown",
   "metadata": {},
   "source": [
    "RMSE, MSE, R2 squared: further reading\n",
    "\n",
    "* https://stats.stackexchange.com/questions/242787/how-to-interpret-root-mean-squared-error-rmse-vs-standard-deviation\n",
    "* https://setosa.io/ev/ordinary-least-squares-regression/\n",
    "* https://medium.com/analytics-vidhya/mae-mse-rmse-coefficient-of-determination-adjusted-r-squared-which-metric-is-better-cd0326a5697e"
   ]
  },
  {
   "cell_type": "markdown",
   "metadata": {},
   "source": [
    "## Correlation between predictor variables (or features)\n",
    "\n",
    "Correlation between two (or more) predictir variable means that there is a statistical relation between these two variables. This can be causal or not. When two variables are highle correlated (> 0.5), than they are collinear. This can pose problems. In the presence of collinearity between two or more predictors, it is difficult to isolate the impact of each of that predictor on the response. Multicollinearity has an impact on the coefficients and p values of those coefficients. But it does not impact the precision of the predictions. So depending on the goal (first notebook, classical statistics or machine learning) it is desirable to take out features that are correlated. Also in the case of ML, when we have a dataset with a large number of predictors, taking out variables that are collinear helps to reduce the dimensions and make a simplar more stable model.\n",
    "\n",
    "\n",
    "(Further reading, see page 73, 74, 99 of ILS book).\n",
    "https://datascience.stackexchange.com/questions/24452/in-supervised-learning-why-is-it-bad-to-have-correlated-features\n",
    "\n",
    "Two methods:\n",
    "* make a correlation matrix and decide what variables to leave out. (0.1 = moderate, 0.5 = large)\n",
    "* Use variance inflaction factor method to leave out columns / features (if VIF > 5, leave out column)"
   ]
  },
  {
   "cell_type": "code",
   "execution_count": 21,
   "metadata": {},
   "outputs": [
    {
     "data": {
      "image/png": "[encoded data removed]",
      "text/plain": [
       "<Figure size 432x288 with 2 Axes>"
      ]
     },
     "metadata": {
      "needs_background": "light"
     },
     "output_type": "display_data"
    }
   ],
   "source": [
    "# Correlation matrix\n",
    "df = pd.concat([X, pd.Series(y)], axis=1)\n",
    "df = df.rename(columns={0:'diabetes'})\n",
    "\n",
    "import seaborn as sns\n",
    "_ = sns.heatmap(df.corr(), cmap=\"RdBu_r\", vmin=-1, vmax=1)"
   ]
  },
  {
   "cell_type": "markdown",
   "metadata": {},
   "source": [
    "From the above matrix we see that bmi (predictor) is strongly correlated to diabetes (response). As a predictor, bmi is strongly related to bp. To make a regression model we could take out bp without impacting the accuracy of the prediction of diabetes. This results in a simpler and smaller model."
   ]
  },
  {
   "cell_type": "code",
   "execution_count": 22,
   "metadata": {},
   "outputs": [
    {
     "data": {
      "text/html": [
       "<div>\n",
       "<style scoped>\n",
       "    .dataframe tbody tr th:only-of-type {\n",
       "        vertical-align: middle;\n",
       "    }\n",
       "\n",
       "    .dataframe tbody tr th {\n",
       "        vertical-align: top;\n",
       "    }\n",
       "\n",
       "    .dataframe thead th {\n",
       "        text-align: right;\n",
       "    }\n",
       "</style>\n",
       "<table border=\"1\" class=\"dataframe\">\n",
       "  <thead>\n",
       "    <tr style=\"text-align: right;\">\n",
       "      <th></th>\n",
       "      <th>VIF</th>\n",
       "      <th>features</th>\n",
       "    </tr>\n",
       "  </thead>\n",
       "  <tbody>\n",
       "    <tr>\n",
       "      <th>4</th>\n",
       "      <td>59.203786</td>\n",
       "      <td>s1</td>\n",
       "    </tr>\n",
       "    <tr>\n",
       "      <th>5</th>\n",
       "      <td>39.194379</td>\n",
       "      <td>s2</td>\n",
       "    </tr>\n",
       "    <tr>\n",
       "      <th>6</th>\n",
       "      <td>15.402352</td>\n",
       "      <td>s3</td>\n",
       "    </tr>\n",
       "    <tr>\n",
       "      <th>7</th>\n",
       "      <td>8.890986</td>\n",
       "      <td>s4</td>\n",
       "    </tr>\n",
       "    <tr>\n",
       "      <th>8</th>\n",
       "      <td>10.076222</td>\n",
       "      <td>s5</td>\n",
       "    </tr>\n",
       "  </tbody>\n",
       "</table>\n",
       "</div>"
      ],
      "text/plain": [
       "         VIF features\n",
       "4  59.203786       s1\n",
       "5  39.194379       s2\n",
       "6  15.402352       s3\n",
       "7   8.890986       s4\n",
       "8  10.076222       s5"
      ]
     },
     "execution_count": 22,
     "metadata": {},
     "output_type": "execute_result"
    }
   ],
   "source": [
    "# Variance Inflation Factor\n",
    "from statsmodels.stats.outliers_influence import variance_inflation_factor\n",
    "\n",
    "variables = X\n",
    "variables.shape\n",
    "vif = pd.DataFrame()\n",
    "vif['VIF'] = [variance_inflation_factor(variables.values,i) for i in range(variables.shape[1])]\n",
    "vif['features'] = variables.columns\n",
    "vif[vif['VIF']>5]"
   ]
  },
  {
   "cell_type": "markdown",
   "metadata": {},
   "source": [
    "Leaving out the above columns should not impact the precision of prediction. But it results in a smaller and simpler model. Also, the std error and confidence interval of the coefficients should be smaller. But be carefull, deleting all features with high collinearity, may lead to deleting the feature that is the best predictor for the response. So first check the correlation between features you want to delete and the (cor)relation with the response variable."
   ]
  },
  {
   "cell_type": "markdown",
   "metadata": {},
   "source": [
    "## Excercise 2: Linear regression prediction of house prices\n",
    "\n",
    "The California housing market is booming and, as it is the home of silicon valley, the housing company **Homes4You** have decided they want to use new data science techniques to aid their business. They want you to build a predictive model that provides the median house price for each local area across the state (These local areas are often called *'blocks'*). They will use this to help guide their agents in how to price houses.\n",
    "\n",
    "They have collected a data set which contains many features in order to aid your building of a model, but they wish to only include as few features as possible in order to reduce the time their agents spend collecting data in future.\n",
    "\n",
    "\n",
    "Your mission is to apply a regression model to predict housing prices in California.\n",
    "* Import the data the company has collected using the sklearn function `fetch_california_housing`\n",
    "* Make a heatmap of the correlation coefficiencts between the variables\n",
    "* Split the data into a training and testing set\n",
    "* Build a linear regression model using all the variables available and print the train and test MSE scores.\n",
    "* Try building other models with different combinations of variables. Print the train and test MSE scores of at least 2 of these models.\n",
    "* Provide a recommendation to Homes4You of which variables you would include in the model.\n",
    "* Print the train and test **RMSE** scores of your final model and explain in a few sentences to Homes4You how well your model is performing. "
   ]
  },
  {
   "cell_type": "code",
   "execution_count": 21,
   "metadata": {},
   "outputs": [],
   "source": [
    "#### your solution here\n",
    "from sklearn.datasets import fetch_california_housing\n",
    "housing = fetch_california_housing()"
   ]
  },
  {
   "cell_type": "code",
   "execution_count": 33,
   "metadata": {},
   "outputs": [
    {
     "data": {
      "text/plain": [
       "array([4.526, 3.585, 3.521, ..., 0.923, 0.847, 0.894])"
      ]
     },
     "execution_count": 33,
     "metadata": {},
     "output_type": "execute_result"
    }
   ],
   "source": [
    "y"
   ]
  },
  {
   "cell_type": "code",
   "execution_count": 23,
   "metadata": {
    "scrolled": false
   },
   "outputs": [
    {
     "name": "stdout",
     "output_type": "stream",
     "text": [
      ".. _california_housing_dataset:\n",
      "\n",
      "California Housing dataset\n",
      "--------------------------\n",
      "\n",
      "**Data Set Characteristics:**\n",
      "\n",
      "    :Number of Instances: 20640\n",
      "\n",
      "    :Number of Attributes: 8 numeric, predictive attributes and the target\n",
      "\n",
      "    :Attribute Information:\n",
      "        - MedInc        median income in block group\n",
      "        - HouseAge      median house age in block group\n",
      "        - AveRooms      average number of rooms per household\n",
      "        - AveBedrms     average number of bedrooms per household\n",
      "        - Population    block group population\n",
      "        - AveOccup      average number of household members\n",
      "        - Latitude      block group latitude\n",
      "        - Longitude     block group longitude\n",
      "\n",
      "    :Missing Attribute Values: None\n",
      "\n",
      "This dataset was obtained from the StatLib repository.\n",
      "https://www.dcc.fc.up.pt/~ltorgo/Regression/cal_housing.html\n",
      "\n",
      "The target variable is the median house value for California districts,\n",
      "expressed in hundreds of thousands of dollars ($100,000).\n",
      "\n",
      "This dataset was derived from the 1990 U.S. census, using one row per census\n",
      "block group. A block group is the smallest geographical unit for which the U.S.\n",
      "Census Bureau publishes sample data (a block group typically has a population\n",
      "of 600 to 3,000 people).\n",
      "\n",
      "An household is a group of people residing within a home. Since the average\n",
      "number of rooms and bedrooms in this dataset are provided per household, these\n",
      "columns may take surpinsingly large values for block groups with few households\n",
      "and many empty houses, such as vacation resorts.\n",
      "\n",
      "It can be downloaded/loaded using the\n",
      ":func:`sklearn.datasets.fetch_california_housing` function.\n",
      "\n",
      ".. topic:: References\n",
      "\n",
      "    - Pace, R. Kelley and Ronald Barry, Sparse Spatial Autoregressions,\n",
      "      Statistics and Probability Letters, 33 (1997) 291-297\n",
      "\n"
     ]
    }
   ],
   "source": [
    "print(housing.DESCR)"
   ]
  },
  {
   "cell_type": "code",
   "execution_count": 145,
   "metadata": {},
   "outputs": [],
   "source": [
    "X = pd.DataFrame(housing.data, columns=housing.feature_names)\n",
    "y = housing.target"
   ]
  },
  {
   "cell_type": "code",
   "execution_count": 146,
   "metadata": {},
   "outputs": [],
   "source": [
    "from sklearn.model_selection import train_test_split\n",
    "X_train, X_test, y_train, y_test = train_test_split(X, y, random_state = 18)"
   ]
  },
  {
   "cell_type": "code",
   "execution_count": 29,
   "metadata": {},
   "outputs": [
    {
     "name": "stdout",
     "output_type": "stream",
     "text": [
      "test MSE: 0.5461989819549831\n",
      "train MSE: 0.5191938764206628\n",
      "RMSE: 0.7390527599265042\n"
     ]
    }
   ],
   "source": [
    "from sklearn.linear_model import LinearRegression\n",
    "\n",
    "# fit model to training data\n",
    "model = LinearRegression()\n",
    "model.fit(X_train, y_train)\n",
    "\n",
    "# predict y values for testing data set\n",
    "y_pred_test = model.predict(X_test)\n",
    "y_pred_train = model.predict(X_train)\n",
    "# evaluate MSE\n",
    "mse_train = mean_squared_error(y_train, y_pred_train)\n",
    "mse_test = mean_squared_error(y_test, y_pred_test)\n",
    "print('test MSE: {0}'.format(mse_test))\n",
    "print('train MSE: {0}'.format(mse_train))\n",
    "rmse_test = np.sqrt(mse_test)\n",
    "print('RMSE: {0}'.format(rmse_test))"
   ]
  },
  {
   "cell_type": "code",
   "execution_count": 91,
   "metadata": {},
   "outputs": [],
   "source": [
    "df = pd.concat([X, pd.Series(y)], axis=1)\n",
    "df = df.rename(columns={0:'house price'})"
   ]
  },
  {
   "cell_type": "code",
   "execution_count": 48,
   "metadata": {
    "scrolled": true
   },
   "outputs": [
    {
     "data": {
      "image/png": "[encoded data removed]",
      "text/plain": [
       "<Figure size 640x480 with 2 Axes>"
      ]
     },
     "metadata": {},
     "output_type": "display_data"
    }
   ],
   "source": [
    "\n",
    "import seaborn as sns\n",
    "_ = sns.heatmap(df.corr(), cmap=\"RdBu_r\", vmin=-1, vmax=1)"
   ]
  },
  {
   "cell_type": "code",
   "execution_count": 36,
   "metadata": {},
   "outputs": [
    {
     "data": {
      "text/html": [
       "<div>\n",
       "<style scoped>\n",
       "    .dataframe tbody tr th:only-of-type {\n",
       "        vertical-align: middle;\n",
       "    }\n",
       "\n",
       "    .dataframe tbody tr th {\n",
       "        vertical-align: top;\n",
       "    }\n",
       "\n",
       "    .dataframe thead th {\n",
       "        text-align: right;\n",
       "    }\n",
       "</style>\n",
       "<table border=\"1\" class=\"dataframe\">\n",
       "  <thead>\n",
       "    <tr style=\"text-align: right;\">\n",
       "      <th></th>\n",
       "      <th>MedInc</th>\n",
       "      <th>HouseAge</th>\n",
       "      <th>AveRooms</th>\n",
       "      <th>AveBedrms</th>\n",
       "      <th>Population</th>\n",
       "      <th>AveOccup</th>\n",
       "      <th>Latitude</th>\n",
       "      <th>Longitude</th>\n",
       "      <th>house price</th>\n",
       "    </tr>\n",
       "  </thead>\n",
       "  <tbody>\n",
       "    <tr>\n",
       "      <th>0</th>\n",
       "      <td>8.3252</td>\n",
       "      <td>41.0</td>\n",
       "      <td>6.984127</td>\n",
       "      <td>1.023810</td>\n",
       "      <td>322.0</td>\n",
       "      <td>2.555556</td>\n",
       "      <td>37.88</td>\n",
       "      <td>-122.23</td>\n",
       "      <td>4.526</td>\n",
       "    </tr>\n",
       "    <tr>\n",
       "      <th>1</th>\n",
       "      <td>8.3014</td>\n",
       "      <td>21.0</td>\n",
       "      <td>6.238137</td>\n",
       "      <td>0.971880</td>\n",
       "      <td>2401.0</td>\n",
       "      <td>2.109842</td>\n",
       "      <td>37.86</td>\n",
       "      <td>-122.22</td>\n",
       "      <td>3.585</td>\n",
       "    </tr>\n",
       "    <tr>\n",
       "      <th>2</th>\n",
       "      <td>7.2574</td>\n",
       "      <td>52.0</td>\n",
       "      <td>8.288136</td>\n",
       "      <td>1.073446</td>\n",
       "      <td>496.0</td>\n",
       "      <td>2.802260</td>\n",
       "      <td>37.85</td>\n",
       "      <td>-122.24</td>\n",
       "      <td>3.521</td>\n",
       "    </tr>\n",
       "    <tr>\n",
       "      <th>3</th>\n",
       "      <td>5.6431</td>\n",
       "      <td>52.0</td>\n",
       "      <td>5.817352</td>\n",
       "      <td>1.073059</td>\n",
       "      <td>558.0</td>\n",
       "      <td>2.547945</td>\n",
       "      <td>37.85</td>\n",
       "      <td>-122.25</td>\n",
       "      <td>3.413</td>\n",
       "    </tr>\n",
       "    <tr>\n",
       "      <th>4</th>\n",
       "      <td>3.8462</td>\n",
       "      <td>52.0</td>\n",
       "      <td>6.281853</td>\n",
       "      <td>1.081081</td>\n",
       "      <td>565.0</td>\n",
       "      <td>2.181467</td>\n",
       "      <td>37.85</td>\n",
       "      <td>-122.25</td>\n",
       "      <td>3.422</td>\n",
       "    </tr>\n",
       "    <tr>\n",
       "      <th>...</th>\n",
       "      <td>...</td>\n",
       "      <td>...</td>\n",
       "      <td>...</td>\n",
       "      <td>...</td>\n",
       "      <td>...</td>\n",
       "      <td>...</td>\n",
       "      <td>...</td>\n",
       "      <td>...</td>\n",
       "      <td>...</td>\n",
       "    </tr>\n",
       "    <tr>\n",
       "      <th>20635</th>\n",
       "      <td>1.5603</td>\n",
       "      <td>25.0</td>\n",
       "      <td>5.045455</td>\n",
       "      <td>1.133333</td>\n",
       "      <td>845.0</td>\n",
       "      <td>2.560606</td>\n",
       "      <td>39.48</td>\n",
       "      <td>-121.09</td>\n",
       "      <td>0.781</td>\n",
       "    </tr>\n",
       "    <tr>\n",
       "      <th>20636</th>\n",
       "      <td>2.5568</td>\n",
       "      <td>18.0</td>\n",
       "      <td>6.114035</td>\n",
       "      <td>1.315789</td>\n",
       "      <td>356.0</td>\n",
       "      <td>3.122807</td>\n",
       "      <td>39.49</td>\n",
       "      <td>-121.21</td>\n",
       "      <td>0.771</td>\n",
       "    </tr>\n",
       "    <tr>\n",
       "      <th>20637</th>\n",
       "      <td>1.7000</td>\n",
       "      <td>17.0</td>\n",
       "      <td>5.205543</td>\n",
       "      <td>1.120092</td>\n",
       "      <td>1007.0</td>\n",
       "      <td>2.325635</td>\n",
       "      <td>39.43</td>\n",
       "      <td>-121.22</td>\n",
       "      <td>0.923</td>\n",
       "    </tr>\n",
       "    <tr>\n",
       "      <th>20638</th>\n",
       "      <td>1.8672</td>\n",
       "      <td>18.0</td>\n",
       "      <td>5.329513</td>\n",
       "      <td>1.171920</td>\n",
       "      <td>741.0</td>\n",
       "      <td>2.123209</td>\n",
       "      <td>39.43</td>\n",
       "      <td>-121.32</td>\n",
       "      <td>0.847</td>\n",
       "    </tr>\n",
       "    <tr>\n",
       "      <th>20639</th>\n",
       "      <td>2.3886</td>\n",
       "      <td>16.0</td>\n",
       "      <td>5.254717</td>\n",
       "      <td>1.162264</td>\n",
       "      <td>1387.0</td>\n",
       "      <td>2.616981</td>\n",
       "      <td>39.37</td>\n",
       "      <td>-121.24</td>\n",
       "      <td>0.894</td>\n",
       "    </tr>\n",
       "  </tbody>\n",
       "</table>\n",
       "<p>20640 rows × 9 columns</p>\n",
       "</div>"
      ],
      "text/plain": [
       "       MedInc  HouseAge  AveRooms  AveBedrms  Population  AveOccup  Latitude  \\\n",
       "0      8.3252      41.0  6.984127   1.023810       322.0  2.555556     37.88   \n",
       "1      8.3014      21.0  6.238137   0.971880      2401.0  2.109842     37.86   \n",
       "2      7.2574      52.0  8.288136   1.073446       496.0  2.802260     37.85   \n",
       "3      5.6431      52.0  5.817352   1.073059       558.0  2.547945     37.85   \n",
       "4      3.8462      52.0  6.281853   1.081081       565.0  2.181467     37.85   \n",
       "...       ...       ...       ...        ...         ...       ...       ...   \n",
       "20635  1.5603      25.0  5.045455   1.133333       845.0  2.560606     39.48   \n",
       "20636  2.5568      18.0  6.114035   1.315789       356.0  3.122807     39.49   \n",
       "20637  1.7000      17.0  5.205543   1.120092      1007.0  2.325635     39.43   \n",
       "20638  1.8672      18.0  5.329513   1.171920       741.0  2.123209     39.43   \n",
       "20639  2.3886      16.0  5.254717   1.162264      1387.0  2.616981     39.37   \n",
       "\n",
       "       Longitude  house price  \n",
       "0        -122.23        4.526  \n",
       "1        -122.22        3.585  \n",
       "2        -122.24        3.521  \n",
       "3        -122.25        3.413  \n",
       "4        -122.25        3.422  \n",
       "...          ...          ...  \n",
       "20635    -121.09        0.781  \n",
       "20636    -121.21        0.771  \n",
       "20637    -121.22        0.923  \n",
       "20638    -121.32        0.847  \n",
       "20639    -121.24        0.894  \n",
       "\n",
       "[20640 rows x 9 columns]"
      ]
     },
     "execution_count": 36,
     "metadata": {},
     "output_type": "execute_result"
    }
   ],
   "source": [
    "df"
   ]
  },
  {
   "cell_type": "code",
   "execution_count": 37,
   "metadata": {
    "scrolled": true
   },
   "outputs": [
    {
     "data": {
      "text/html": [
       "<div>\n",
       "<style scoped>\n",
       "    .dataframe tbody tr th:only-of-type {\n",
       "        vertical-align: middle;\n",
       "    }\n",
       "\n",
       "    .dataframe tbody tr th {\n",
       "        vertical-align: top;\n",
       "    }\n",
       "\n",
       "    .dataframe thead th {\n",
       "        text-align: right;\n",
       "    }\n",
       "</style>\n",
       "<table border=\"1\" class=\"dataframe\">\n",
       "  <thead>\n",
       "    <tr style=\"text-align: right;\">\n",
       "      <th></th>\n",
       "      <th>VIF</th>\n",
       "      <th>features</th>\n",
       "    </tr>\n",
       "  </thead>\n",
       "  <tbody>\n",
       "    <tr>\n",
       "      <th>0</th>\n",
       "      <td>11.511140</td>\n",
       "      <td>MedInc</td>\n",
       "    </tr>\n",
       "    <tr>\n",
       "      <th>1</th>\n",
       "      <td>7.195917</td>\n",
       "      <td>HouseAge</td>\n",
       "    </tr>\n",
       "    <tr>\n",
       "      <th>2</th>\n",
       "      <td>45.993601</td>\n",
       "      <td>AveRooms</td>\n",
       "    </tr>\n",
       "    <tr>\n",
       "      <th>3</th>\n",
       "      <td>43.590314</td>\n",
       "      <td>AveBedrms</td>\n",
       "    </tr>\n",
       "    <tr>\n",
       "      <th>6</th>\n",
       "      <td>559.874071</td>\n",
       "      <td>Latitude</td>\n",
       "    </tr>\n",
       "    <tr>\n",
       "      <th>7</th>\n",
       "      <td>633.711654</td>\n",
       "      <td>Longitude</td>\n",
       "    </tr>\n",
       "  </tbody>\n",
       "</table>\n",
       "</div>"
      ],
      "text/plain": [
       "          VIF   features\n",
       "0   11.511140     MedInc\n",
       "1    7.195917   HouseAge\n",
       "2   45.993601   AveRooms\n",
       "3   43.590314  AveBedrms\n",
       "6  559.874071   Latitude\n",
       "7  633.711654  Longitude"
      ]
     },
     "execution_count": 37,
     "metadata": {},
     "output_type": "execute_result"
    }
   ],
   "source": [
    "from statsmodels.stats.outliers_influence import variance_inflation_factor\n",
    "\n",
    "variables = X\n",
    "variables.shape\n",
    "vif = pd.DataFrame()\n",
    "vif['VIF'] = [variance_inflation_factor(variables.values,i) for i in range(variables.shape[1])]\n",
    "vif['features'] = variables.columns\n",
    "vif[vif['VIF']>5]"
   ]
  },
  {
   "cell_type": "code",
   "execution_count": null,
   "metadata": {},
   "outputs": [],
   "source": [
    "a virer : rooms, bedrooms, long , lat"
   ]
  },
  {
   "cell_type": "code",
   "execution_count": 84,
   "metadata": {},
   "outputs": [],
   "source": []
  },
  {
   "cell_type": "code",
   "execution_count": 85,
   "metadata": {},
   "outputs": [],
   "source": [
    "X = df[['AveRooms','AveBedrms','MedInc','HouseAge','Latitude','Longitude','Population','AveOccup']]\n",
    "y = df['house price']"
   ]
  },
  {
   "cell_type": "code",
   "execution_count": 148,
   "metadata": {},
   "outputs": [],
   "source": [
    "from sklearn.model_selection import train_test_split\n",
    "X_train, X_test, y_train, y_test = train_test_split(X, y, random_state = 18)"
   ]
  },
  {
   "cell_type": "code",
   "execution_count": 149,
   "metadata": {},
   "outputs": [
    {
     "name": "stdout",
     "output_type": "stream",
     "text": [
      "test MSE: 0.5461989819549831\n",
      "train MSE: 0.5191938764206628\n",
      "RMSE: 0.7390527599265042\n"
     ]
    }
   ],
   "source": [
    "from sklearn.linear_model import LinearRegression\n",
    "\n",
    "# fit model to training data\n",
    "model = LinearRegression()\n",
    "model.fit(X_train, y_train)\n",
    "\n",
    "# predict y values for testing data set\n",
    "y_pred_test = model.predict(X_test)\n",
    "y_pred_train = model.predict(X_train)\n",
    "# evaluate MSE\n",
    "mse_train = mean_squared_error(y_train, y_pred_train)\n",
    "mse_test = mean_squared_error(y_test, y_pred_test)\n",
    "print('test MSE: {0}'.format(mse_test))\n",
    "print('train MSE: {0}'.format(mse_train))\n",
    "rmse_test = np.sqrt(mse_test)\n",
    "print('RMSE: {0}'.format(rmse_test))"
   ]
  },
  {
   "cell_type": "code",
   "execution_count": 94,
   "metadata": {},
   "outputs": [
    {
     "name": "stdout",
     "output_type": "stream",
     "text": [
      "X_train columns: Index(['MedInc', 'HouseAge', 'AveRooms', 'AveBedrms', 'Population', 'AveOccup',\n",
      "       'Latitude', 'Longitude'],\n",
      "      dtype='object')\n",
      "X_testcolumns: Index(['MedInc', 'HouseAge', 'AveRooms', 'AveBedrms', 'Population', 'AveOccup',\n",
      "       'Latitude', 'Longitude'],\n",
      "      dtype='object')\n"
     ]
    }
   ],
   "source": [
    "\n",
    "print(\"X_train columns:\", X_train.columns)\n",
    "print(\"X_testcolumns:\", X_test.columns)"
   ]
  },
  {
   "cell_type": "code",
   "execution_count": 150,
   "metadata": {},
   "outputs": [
    {
     "name": "stdout",
     "output_type": "stream",
     "text": [
      "('AveRooms',)\n",
      "('AveBedrms',)\n",
      "('MedInc',)\n",
      "('HouseAge',)\n",
      "('Latitude',)\n",
      "('Longitude',)\n",
      "('Population',)\n",
      "('AveOccup',)\n",
      "('AveRooms', 'AveBedrms')\n",
      "('AveRooms', 'MedInc')\n",
      "('AveRooms', 'HouseAge')\n",
      "('AveRooms', 'Latitude')\n",
      "('AveRooms', 'Longitude')\n",
      "('AveRooms', 'Population')\n",
      "('AveRooms', 'AveOccup')\n",
      "('AveBedrms', 'MedInc')\n",
      "('AveBedrms', 'HouseAge')\n",
      "('AveBedrms', 'Latitude')\n",
      "('AveBedrms', 'Longitude')\n",
      "('AveBedrms', 'Population')\n",
      "('AveBedrms', 'AveOccup')\n",
      "('MedInc', 'HouseAge')\n",
      "('MedInc', 'Latitude')\n",
      "('MedInc', 'Longitude')\n",
      "('MedInc', 'Population')\n",
      "('MedInc', 'AveOccup')\n",
      "('HouseAge', 'Latitude')\n",
      "('HouseAge', 'Longitude')\n",
      "('HouseAge', 'Population')\n",
      "('HouseAge', 'AveOccup')\n",
      "('Latitude', 'Longitude')\n",
      "('Latitude', 'Population')\n",
      "('Latitude', 'AveOccup')\n",
      "('Longitude', 'Population')\n",
      "('Longitude', 'AveOccup')\n",
      "('Population', 'AveOccup')\n",
      "('AveRooms', 'AveBedrms', 'MedInc')\n",
      "('AveRooms', 'AveBedrms', 'HouseAge')\n",
      "('AveRooms', 'AveBedrms', 'Latitude')\n",
      "('AveRooms', 'AveBedrms', 'Longitude')\n",
      "('AveRooms', 'AveBedrms', 'Population')\n",
      "('AveRooms', 'AveBedrms', 'AveOccup')\n",
      "('AveRooms', 'MedInc', 'HouseAge')\n",
      "('AveRooms', 'MedInc', 'Latitude')\n",
      "('AveRooms', 'MedInc', 'Longitude')\n",
      "('AveRooms', 'MedInc', 'Population')\n",
      "('AveRooms', 'MedInc', 'AveOccup')\n",
      "('AveRooms', 'HouseAge', 'Latitude')\n",
      "('AveRooms', 'HouseAge', 'Longitude')\n",
      "('AveRooms', 'HouseAge', 'Population')\n",
      "('AveRooms', 'HouseAge', 'AveOccup')\n",
      "('AveRooms', 'Latitude', 'Longitude')\n",
      "('AveRooms', 'Latitude', 'Population')\n",
      "('AveRooms', 'Latitude', 'AveOccup')\n",
      "('AveRooms', 'Longitude', 'Population')\n",
      "('AveRooms', 'Longitude', 'AveOccup')\n",
      "('AveRooms', 'Population', 'AveOccup')\n",
      "('AveBedrms', 'MedInc', 'HouseAge')\n",
      "('AveBedrms', 'MedInc', 'Latitude')\n",
      "('AveBedrms', 'MedInc', 'Longitude')\n",
      "('AveBedrms', 'MedInc', 'Population')\n",
      "('AveBedrms', 'MedInc', 'AveOccup')\n",
      "('AveBedrms', 'HouseAge', 'Latitude')\n",
      "('AveBedrms', 'HouseAge', 'Longitude')\n",
      "('AveBedrms', 'HouseAge', 'Population')\n",
      "('AveBedrms', 'HouseAge', 'AveOccup')\n",
      "('AveBedrms', 'Latitude', 'Longitude')\n",
      "('AveBedrms', 'Latitude', 'Population')\n",
      "('AveBedrms', 'Latitude', 'AveOccup')\n",
      "('AveBedrms', 'Longitude', 'Population')\n",
      "('AveBedrms', 'Longitude', 'AveOccup')\n",
      "('AveBedrms', 'Population', 'AveOccup')\n",
      "('MedInc', 'HouseAge', 'Latitude')\n",
      "('MedInc', 'HouseAge', 'Longitude')\n",
      "('MedInc', 'HouseAge', 'Population')\n",
      "('MedInc', 'HouseAge', 'AveOccup')\n",
      "('MedInc', 'Latitude', 'Longitude')\n",
      "('MedInc', 'Latitude', 'Population')\n",
      "('MedInc', 'Latitude', 'AveOccup')\n",
      "('MedInc', 'Longitude', 'Population')\n",
      "('MedInc', 'Longitude', 'AveOccup')\n",
      "('MedInc', 'Population', 'AveOccup')\n",
      "('HouseAge', 'Latitude', 'Longitude')\n",
      "('HouseAge', 'Latitude', 'Population')\n",
      "('HouseAge', 'Latitude', 'AveOccup')\n",
      "('HouseAge', 'Longitude', 'Population')\n",
      "('HouseAge', 'Longitude', 'AveOccup')\n",
      "('HouseAge', 'Population', 'AveOccup')\n",
      "('Latitude', 'Longitude', 'Population')\n",
      "('Latitude', 'Longitude', 'AveOccup')\n",
      "('Latitude', 'Population', 'AveOccup')\n",
      "('Longitude', 'Population', 'AveOccup')\n",
      "('AveRooms', 'AveBedrms', 'MedInc', 'HouseAge')\n",
      "('AveRooms', 'AveBedrms', 'MedInc', 'Latitude')\n",
      "('AveRooms', 'AveBedrms', 'MedInc', 'Longitude')\n",
      "('AveRooms', 'AveBedrms', 'MedInc', 'Population')\n",
      "('AveRooms', 'AveBedrms', 'MedInc', 'AveOccup')\n",
      "('AveRooms', 'AveBedrms', 'HouseAge', 'Latitude')\n",
      "('AveRooms', 'AveBedrms', 'HouseAge', 'Longitude')\n",
      "('AveRooms', 'AveBedrms', 'HouseAge', 'Population')\n",
      "('AveRooms', 'AveBedrms', 'HouseAge', 'AveOccup')\n",
      "('AveRooms', 'AveBedrms', 'Latitude', 'Longitude')\n",
      "('AveRooms', 'AveBedrms', 'Latitude', 'Population')\n",
      "('AveRooms', 'AveBedrms', 'Latitude', 'AveOccup')\n",
      "('AveRooms', 'AveBedrms', 'Longitude', 'Population')\n",
      "('AveRooms', 'AveBedrms', 'Longitude', 'AveOccup')\n",
      "('AveRooms', 'AveBedrms', 'Population', 'AveOccup')\n",
      "('AveRooms', 'MedInc', 'HouseAge', 'Latitude')\n",
      "('AveRooms', 'MedInc', 'HouseAge', 'Longitude')\n",
      "('AveRooms', 'MedInc', 'HouseAge', 'Population')\n",
      "('AveRooms', 'MedInc', 'HouseAge', 'AveOccup')\n",
      "('AveRooms', 'MedInc', 'Latitude', 'Longitude')\n",
      "('AveRooms', 'MedInc', 'Latitude', 'Population')\n",
      "('AveRooms', 'MedInc', 'Latitude', 'AveOccup')\n",
      "('AveRooms', 'MedInc', 'Longitude', 'Population')\n",
      "('AveRooms', 'MedInc', 'Longitude', 'AveOccup')\n",
      "('AveRooms', 'MedInc', 'Population', 'AveOccup')\n",
      "('AveRooms', 'HouseAge', 'Latitude', 'Longitude')\n",
      "('AveRooms', 'HouseAge', 'Latitude', 'Population')\n",
      "('AveRooms', 'HouseAge', 'Latitude', 'AveOccup')\n",
      "('AveRooms', 'HouseAge', 'Longitude', 'Population')\n",
      "('AveRooms', 'HouseAge', 'Longitude', 'AveOccup')\n",
      "('AveRooms', 'HouseAge', 'Population', 'AveOccup')\n",
      "('AveRooms', 'Latitude', 'Longitude', 'Population')\n",
      "('AveRooms', 'Latitude', 'Longitude', 'AveOccup')\n",
      "('AveRooms', 'Latitude', 'Population', 'AveOccup')\n",
      "('AveRooms', 'Longitude', 'Population', 'AveOccup')\n",
      "('AveBedrms', 'MedInc', 'HouseAge', 'Latitude')\n",
      "('AveBedrms', 'MedInc', 'HouseAge', 'Longitude')\n",
      "('AveBedrms', 'MedInc', 'HouseAge', 'Population')\n",
      "('AveBedrms', 'MedInc', 'HouseAge', 'AveOccup')\n",
      "('AveBedrms', 'MedInc', 'Latitude', 'Longitude')\n",
      "('AveBedrms', 'MedInc', 'Latitude', 'Population')\n",
      "('AveBedrms', 'MedInc', 'Latitude', 'AveOccup')\n",
      "('AveBedrms', 'MedInc', 'Longitude', 'Population')\n",
      "('AveBedrms', 'MedInc', 'Longitude', 'AveOccup')\n",
      "('AveBedrms', 'MedInc', 'Population', 'AveOccup')\n",
      "('AveBedrms', 'HouseAge', 'Latitude', 'Longitude')\n",
      "('AveBedrms', 'HouseAge', 'Latitude', 'Population')\n",
      "('AveBedrms', 'HouseAge', 'Latitude', 'AveOccup')\n",
      "('AveBedrms', 'HouseAge', 'Longitude', 'Population')\n",
      "('AveBedrms', 'HouseAge', 'Longitude', 'AveOccup')\n",
      "('AveBedrms', 'HouseAge', 'Population', 'AveOccup')\n",
      "('AveBedrms', 'Latitude', 'Longitude', 'Population')\n",
      "('AveBedrms', 'Latitude', 'Longitude', 'AveOccup')\n",
      "('AveBedrms', 'Latitude', 'Population', 'AveOccup')\n",
      "('AveBedrms', 'Longitude', 'Population', 'AveOccup')\n",
      "('MedInc', 'HouseAge', 'Latitude', 'Longitude')\n",
      "('MedInc', 'HouseAge', 'Latitude', 'Population')\n",
      "('MedInc', 'HouseAge', 'Latitude', 'AveOccup')\n",
      "('MedInc', 'HouseAge', 'Longitude', 'Population')\n",
      "('MedInc', 'HouseAge', 'Longitude', 'AveOccup')\n",
      "('MedInc', 'HouseAge', 'Population', 'AveOccup')\n",
      "('MedInc', 'Latitude', 'Longitude', 'Population')\n",
      "('MedInc', 'Latitude', 'Longitude', 'AveOccup')\n",
      "('MedInc', 'Latitude', 'Population', 'AveOccup')\n",
      "('MedInc', 'Longitude', 'Population', 'AveOccup')\n",
      "('HouseAge', 'Latitude', 'Longitude', 'Population')\n",
      "('HouseAge', 'Latitude', 'Longitude', 'AveOccup')\n",
      "('HouseAge', 'Latitude', 'Population', 'AveOccup')\n",
      "('HouseAge', 'Longitude', 'Population', 'AveOccup')\n",
      "('Latitude', 'Longitude', 'Population', 'AveOccup')\n",
      "('AveRooms', 'AveBedrms', 'MedInc', 'HouseAge', 'Latitude')\n",
      "('AveRooms', 'AveBedrms', 'MedInc', 'HouseAge', 'Longitude')\n",
      "('AveRooms', 'AveBedrms', 'MedInc', 'HouseAge', 'Population')\n",
      "('AveRooms', 'AveBedrms', 'MedInc', 'HouseAge', 'AveOccup')\n",
      "('AveRooms', 'AveBedrms', 'MedInc', 'Latitude', 'Longitude')\n",
      "('AveRooms', 'AveBedrms', 'MedInc', 'Latitude', 'Population')\n",
      "('AveRooms', 'AveBedrms', 'MedInc', 'Latitude', 'AveOccup')\n",
      "('AveRooms', 'AveBedrms', 'MedInc', 'Longitude', 'Population')\n",
      "('AveRooms', 'AveBedrms', 'MedInc', 'Longitude', 'AveOccup')\n",
      "('AveRooms', 'AveBedrms', 'MedInc', 'Population', 'AveOccup')\n",
      "('AveRooms', 'AveBedrms', 'HouseAge', 'Latitude', 'Longitude')\n",
      "('AveRooms', 'AveBedrms', 'HouseAge', 'Latitude', 'Population')\n",
      "('AveRooms', 'AveBedrms', 'HouseAge', 'Latitude', 'AveOccup')\n",
      "('AveRooms', 'AveBedrms', 'HouseAge', 'Longitude', 'Population')\n",
      "('AveRooms', 'AveBedrms', 'HouseAge', 'Longitude', 'AveOccup')\n",
      "('AveRooms', 'AveBedrms', 'HouseAge', 'Population', 'AveOccup')\n",
      "('AveRooms', 'AveBedrms', 'Latitude', 'Longitude', 'Population')\n",
      "('AveRooms', 'AveBedrms', 'Latitude', 'Longitude', 'AveOccup')\n",
      "('AveRooms', 'AveBedrms', 'Latitude', 'Population', 'AveOccup')\n",
      "('AveRooms', 'AveBedrms', 'Longitude', 'Population', 'AveOccup')\n",
      "('AveRooms', 'MedInc', 'HouseAge', 'Latitude', 'Longitude')\n",
      "('AveRooms', 'MedInc', 'HouseAge', 'Latitude', 'Population')\n",
      "('AveRooms', 'MedInc', 'HouseAge', 'Latitude', 'AveOccup')\n",
      "('AveRooms', 'MedInc', 'HouseAge', 'Longitude', 'Population')\n",
      "('AveRooms', 'MedInc', 'HouseAge', 'Longitude', 'AveOccup')\n",
      "('AveRooms', 'MedInc', 'HouseAge', 'Population', 'AveOccup')\n",
      "('AveRooms', 'MedInc', 'Latitude', 'Longitude', 'Population')\n",
      "('AveRooms', 'MedInc', 'Latitude', 'Longitude', 'AveOccup')\n",
      "('AveRooms', 'MedInc', 'Latitude', 'Population', 'AveOccup')\n",
      "('AveRooms', 'MedInc', 'Longitude', 'Population', 'AveOccup')\n",
      "('AveRooms', 'HouseAge', 'Latitude', 'Longitude', 'Population')\n",
      "('AveRooms', 'HouseAge', 'Latitude', 'Longitude', 'AveOccup')\n",
      "('AveRooms', 'HouseAge', 'Latitude', 'Population', 'AveOccup')\n",
      "('AveRooms', 'HouseAge', 'Longitude', 'Population', 'AveOccup')\n",
      "('AveRooms', 'Latitude', 'Longitude', 'Population', 'AveOccup')\n",
      "('AveBedrms', 'MedInc', 'HouseAge', 'Latitude', 'Longitude')\n",
      "('AveBedrms', 'MedInc', 'HouseAge', 'Latitude', 'Population')\n",
      "('AveBedrms', 'MedInc', 'HouseAge', 'Latitude', 'AveOccup')\n",
      "('AveBedrms', 'MedInc', 'HouseAge', 'Longitude', 'Population')\n",
      "('AveBedrms', 'MedInc', 'HouseAge', 'Longitude', 'AveOccup')\n",
      "('AveBedrms', 'MedInc', 'HouseAge', 'Population', 'AveOccup')\n",
      "('AveBedrms', 'MedInc', 'Latitude', 'Longitude', 'Population')\n",
      "('AveBedrms', 'MedInc', 'Latitude', 'Longitude', 'AveOccup')\n",
      "('AveBedrms', 'MedInc', 'Latitude', 'Population', 'AveOccup')\n",
      "('AveBedrms', 'MedInc', 'Longitude', 'Population', 'AveOccup')\n",
      "('AveBedrms', 'HouseAge', 'Latitude', 'Longitude', 'Population')\n",
      "('AveBedrms', 'HouseAge', 'Latitude', 'Longitude', 'AveOccup')\n",
      "('AveBedrms', 'HouseAge', 'Latitude', 'Population', 'AveOccup')\n",
      "('AveBedrms', 'HouseAge', 'Longitude', 'Population', 'AveOccup')\n",
      "('AveBedrms', 'Latitude', 'Longitude', 'Population', 'AveOccup')\n",
      "('MedInc', 'HouseAge', 'Latitude', 'Longitude', 'Population')\n",
      "('MedInc', 'HouseAge', 'Latitude', 'Longitude', 'AveOccup')\n",
      "('MedInc', 'HouseAge', 'Latitude', 'Population', 'AveOccup')\n",
      "('MedInc', 'HouseAge', 'Longitude', 'Population', 'AveOccup')\n",
      "('MedInc', 'Latitude', 'Longitude', 'Population', 'AveOccup')\n",
      "('HouseAge', 'Latitude', 'Longitude', 'Population', 'AveOccup')\n",
      "('AveRooms', 'AveBedrms', 'MedInc', 'HouseAge', 'Latitude', 'Longitude')\n",
      "('AveRooms', 'AveBedrms', 'MedInc', 'HouseAge', 'Latitude', 'Population')\n"
     ]
    },
    {
     "name": "stdout",
     "output_type": "stream",
     "text": [
      "('AveRooms', 'AveBedrms', 'MedInc', 'HouseAge', 'Latitude', 'AveOccup')\n",
      "('AveRooms', 'AveBedrms', 'MedInc', 'HouseAge', 'Longitude', 'Population')\n",
      "('AveRooms', 'AveBedrms', 'MedInc', 'HouseAge', 'Longitude', 'AveOccup')\n",
      "('AveRooms', 'AveBedrms', 'MedInc', 'HouseAge', 'Population', 'AveOccup')\n",
      "('AveRooms', 'AveBedrms', 'MedInc', 'Latitude', 'Longitude', 'Population')\n",
      "('AveRooms', 'AveBedrms', 'MedInc', 'Latitude', 'Longitude', 'AveOccup')\n",
      "('AveRooms', 'AveBedrms', 'MedInc', 'Latitude', 'Population', 'AveOccup')\n",
      "('AveRooms', 'AveBedrms', 'MedInc', 'Longitude', 'Population', 'AveOccup')\n",
      "('AveRooms', 'AveBedrms', 'HouseAge', 'Latitude', 'Longitude', 'Population')\n",
      "('AveRooms', 'AveBedrms', 'HouseAge', 'Latitude', 'Longitude', 'AveOccup')\n",
      "('AveRooms', 'AveBedrms', 'HouseAge', 'Latitude', 'Population', 'AveOccup')\n",
      "('AveRooms', 'AveBedrms', 'HouseAge', 'Longitude', 'Population', 'AveOccup')\n",
      "('AveRooms', 'AveBedrms', 'Latitude', 'Longitude', 'Population', 'AveOccup')\n",
      "('AveRooms', 'MedInc', 'HouseAge', 'Latitude', 'Longitude', 'Population')\n",
      "('AveRooms', 'MedInc', 'HouseAge', 'Latitude', 'Longitude', 'AveOccup')\n",
      "('AveRooms', 'MedInc', 'HouseAge', 'Latitude', 'Population', 'AveOccup')\n",
      "('AveRooms', 'MedInc', 'HouseAge', 'Longitude', 'Population', 'AveOccup')\n",
      "('AveRooms', 'MedInc', 'Latitude', 'Longitude', 'Population', 'AveOccup')\n",
      "('AveRooms', 'HouseAge', 'Latitude', 'Longitude', 'Population', 'AveOccup')\n",
      "('AveBedrms', 'MedInc', 'HouseAge', 'Latitude', 'Longitude', 'Population')\n",
      "('AveBedrms', 'MedInc', 'HouseAge', 'Latitude', 'Longitude', 'AveOccup')\n",
      "('AveBedrms', 'MedInc', 'HouseAge', 'Latitude', 'Population', 'AveOccup')\n",
      "('AveBedrms', 'MedInc', 'HouseAge', 'Longitude', 'Population', 'AveOccup')\n",
      "('AveBedrms', 'MedInc', 'Latitude', 'Longitude', 'Population', 'AveOccup')\n",
      "('AveBedrms', 'HouseAge', 'Latitude', 'Longitude', 'Population', 'AveOccup')\n",
      "('MedInc', 'HouseAge', 'Latitude', 'Longitude', 'Population', 'AveOccup')\n",
      "('AveRooms', 'AveBedrms', 'MedInc', 'HouseAge', 'Latitude', 'Longitude', 'Population')\n",
      "('AveRooms', 'AveBedrms', 'MedInc', 'HouseAge', 'Latitude', 'Longitude', 'AveOccup')\n",
      "('AveRooms', 'AveBedrms', 'MedInc', 'HouseAge', 'Latitude', 'Population', 'AveOccup')\n",
      "('AveRooms', 'AveBedrms', 'MedInc', 'HouseAge', 'Longitude', 'Population', 'AveOccup')\n",
      "('AveRooms', 'AveBedrms', 'MedInc', 'Latitude', 'Longitude', 'Population', 'AveOccup')\n",
      "('AveRooms', 'AveBedrms', 'HouseAge', 'Latitude', 'Longitude', 'Population', 'AveOccup')\n",
      "('AveRooms', 'MedInc', 'HouseAge', 'Latitude', 'Longitude', 'Population', 'AveOccup')\n",
      "('AveBedrms', 'MedInc', 'HouseAge', 'Latitude', 'Longitude', 'Population', 'AveOccup')\n",
      "('AveRooms', 'AveBedrms', 'MedInc', 'HouseAge', 'Latitude', 'Longitude', 'Population', 'AveOccup')\n",
      "Best combination of features: ('AveRooms', 'MedInc', 'HouseAge', 'Latitude', 'Longitude', 'AveOccup')\n",
      "Best MSE: 0.5422207669167456\n",
      "Best RMSE: 0.7363564129664014\n"
     ]
    }
   ],
   "source": [
    "import itertools\n",
    "import numpy as np\n",
    "from sklearn.metrics import mean_squared_error\n",
    "\n",
    "def evaluate_model(X_train, X_test, y_train, y_test):\n",
    "    model = LinearRegression()\n",
    "    model.fit(X_train, y_train)\n",
    "    \n",
    "    mse_train= mean_squared_error(y_train, y_pred_train)\n",
    "    y_pred_test = model.predict(X_test)\n",
    "    mse_test = mean_squared_error(y_test, y_pred_test)\n",
    "    rmse_test = np.sqrt(mse_test)\n",
    "    \n",
    "    return mse_test, rmse_test\n",
    "\n",
    "columns = ['AveRooms', 'AveBedrms', 'MedInc', 'HouseAge', 'Latitude', 'Longitude', 'Population', 'AveOccup']\n",
    "best_mse = float('inf')\n",
    "best_rmse = float('inf')\n",
    "best_combination = None\n",
    "\n",
    "for i in range(1, len(columns) + 1):\n",
    "    for combination in itertools.combinations(columns, i):\n",
    "        print(combination)\n",
    "        X_train_subset = X_train[list(combination)]\n",
    "        X_test_subset = X_test[list(combination)]\n",
    "        \n",
    "        mse, rmse = evaluate_model(X_train_subset, X_test_subset, y_train, y_test)\n",
    "        \n",
    "        if rmse < best_rmse:\n",
    "            best_mse = mse\n",
    "            best_rmse = rmse\n",
    "            best_combination = combination\n",
    "\n",
    "print(\"Best combination of features:\", best_combination)\n",
    "print(\"Best MSE:\", best_mse)\n",
    "print(\"Best RMSE:\", best_rmse)\n"
   ]
  },
  {
   "cell_type": "markdown",
   "metadata": {},
   "source": [
    "**Task 3: Explain this to your neighbour...**\n",
    "* The training and test errors are quite close. What does this mean? \n",
    "\n",
    "**ANSWER** It means our model performs similarly to the data it trains on to new data it has not yet seen (it generalises well). However it does not mean it is a good model! We always use lowest test MSE to decide which model is best. \n",
    "\n",
    "\n",
    "<details><summary>HINT</summary><br>\n",
    "HINT: think in terms of if we were to apply this fitted model to new data the model has not seen.\n",
    "\n",
    "</details>\n",
    "\n",
    "* If your MSE & RMSE results are different to those of your peers (even when using the same features and model), why might this be? \n",
    "\n",
    "**ANSWER**, Different random state\n",
    "\n",
    "**Task 4:**\n",
    "* Try to load the 'boston house price' (do some further research, what is the issue here?). \n",
    "* Try to load 'Linnerrud' data set that comes with sklearn? Try to build a model"
   ]
  },
  {
   "cell_type": "code",
   "execution_count": 104,
   "metadata": {},
   "outputs": [],
   "source": [
    "from sklearn.datasets import load_linnerud\n",
    "linnerrud = load_linnerud()"
   ]
  },
  {
   "cell_type": "code",
   "execution_count": 105,
   "metadata": {},
   "outputs": [
    {
     "name": "stdout",
     "output_type": "stream",
     "text": [
      ".. _linnerrud_dataset:\n",
      "\n",
      "Linnerrud dataset\n",
      "-----------------\n",
      "\n",
      "**Data Set Characteristics:**\n",
      "\n",
      "    :Number of Instances: 20\n",
      "    :Number of Attributes: 3\n",
      "    :Missing Attribute Values: None\n",
      "\n",
      "The Linnerud dataset is a multi-output regression dataset. It consists of three\n",
      "exercise (data) and three physiological (target) variables collected from\n",
      "twenty middle-aged men in a fitness club:\n",
      "\n",
      "- *physiological* - CSV containing 20 observations on 3 physiological variables:\n",
      "   Weight, Waist and Pulse.\n",
      "- *exercise* - CSV containing 20 observations on 3 exercise variables:\n",
      "   Chins, Situps and Jumps.\n",
      "\n",
      ".. topic:: References\n",
      "\n",
      "  * Tenenhaus, M. (1998). La regression PLS: theorie et pratique. Paris:\n",
      "    Editions Technic.\n",
      "\n"
     ]
    }
   ],
   "source": [
    "print(linnerrud.DESCR)"
   ]
  },
  {
   "cell_type": "code",
   "execution_count": 189,
   "metadata": {},
   "outputs": [],
   "source": [
    "X = pd.DataFrame(linnerrud.data, columns=linnerrud.feature_names)\n",
    "y = linnerrud.target"
   ]
  },
  {
   "cell_type": "code",
   "execution_count": 190,
   "metadata": {},
   "outputs": [],
   "source": [
    "y_weight = y[:, 0]  # extract the first column (Weight)\n",
    "y_waist = y[:, 1]   # extract the second column (Waist)\n",
    "y_pulse = y[:, 2]   # extract the third column (Pulse)"
   ]
  },
  {
   "cell_type": "code",
   "execution_count": 192,
   "metadata": {},
   "outputs": [],
   "source": [
    "from sklearn.model_selection import train_test_split\n",
    "X_train, X_test, y_train, y_test = train_test_split(X, y_pulse, random_state = 18)"
   ]
  },
  {
   "cell_type": "code",
   "execution_count": 137,
   "metadata": {},
   "outputs": [],
   "source": [
    "t = X.columns.tolist()"
   ]
  },
  {
   "cell_type": "code",
   "execution_count": null,
   "metadata": {},
   "outputs": [],
   "source": []
  },
  {
   "cell_type": "code",
   "execution_count": 193,
   "metadata": {},
   "outputs": [],
   "source": [
    "from sklearn.preprocessing import StandardScaler\n",
    "\n",
    "# create a StandardScaler object\n",
    "scaler = StandardScaler()\n",
    "\n",
    "# fit the scaler to the training data and transform the training data\n",
    "X_train_scaled = scaler.fit_transform(X_train)\n",
    "\n",
    "# transform the testing data using the fitted scaler\n",
    "X_test_scaled = scaler.transform(X_test)"
   ]
  },
  {
   "cell_type": "code",
   "execution_count": 194,
   "metadata": {},
   "outputs": [
    {
     "name": "stdout",
     "output_type": "stream",
     "text": [
      "test MSE: 86.87689521741265\n",
      "train MSE: 33.001224164077925\n",
      "RMSE: 9.320777607979533\n"
     ]
    }
   ],
   "source": [
    "from sklearn.linear_model import LinearRegression\n",
    "\n",
    "# fit model to training data\n",
    "model = LinearRegression()\n",
    "model.fit(X_train, y_train)\n",
    "\n",
    "# predict y values for testing data set\n",
    "y_pred_test = model.predict(X_test)\n",
    "y_pred_train = model.predict(X_train)\n",
    "# evaluate MSE\n",
    "mse_train = mean_squared_error(y_train, y_pred_train)\n",
    "mse_test = mean_squared_error(y_test, y_pred_test)\n",
    "print('test MSE: {0}'.format(mse_test))\n",
    "print('train MSE: {0}'.format(mse_train))\n",
    "rmse_test = np.sqrt(mse_test)\n",
    "print('RMSE: {0}'.format(rmse_test))"
   ]
  },
  {
   "cell_type": "code",
   "execution_count": 126,
   "metadata": {},
   "outputs": [],
   "source": [
    "df = pd.concat([X, pd.Series(y_weight)], axis=1)\n",
    "df = df.rename(columns={0:'weight'})"
   ]
  },
  {
   "cell_type": "code",
   "execution_count": null,
   "metadata": {},
   "outputs": [],
   "source": []
  },
  {
   "cell_type": "code",
   "execution_count": 127,
   "metadata": {
    "scrolled": true
   },
   "outputs": [
    {
     "data": {
      "image/png": "[encoded data removed]",
      "text/plain": [
       "<Figure size 640x480 with 2 Axes>"
      ]
     },
     "metadata": {},
     "output_type": "display_data"
    }
   ],
   "source": [
    "\n",
    "import seaborn as sns\n",
    "_ = sns.heatmap(df.corr(), cmap=\"RdBu_r\", vmin=-1, vmax=1)"
   ]
  },
  {
   "cell_type": "code",
   "execution_count": 161,
   "metadata": {},
   "outputs": [],
   "source": [
    "from sklearn.model_selection import train_test_split\n",
    "X_train, X_test, y_train, y_test = train_test_split(X, y_weight, random_state = 18)"
   ]
  },
  {
   "cell_type": "code",
   "execution_count": 171,
   "metadata": {},
   "outputs": [],
   "source": [
    "from sklearn.preprocessing import StandardScaler\n",
    "\n",
    "# create a StandardScaler object\n",
    "scaler = StandardScaler()\n",
    "\n",
    "# fit the scaler to the training data and transform the training data\n",
    "X_train_scaled = scaler.fit_transform(X_train)\n",
    "X_train_scaled = pd.DataFrame(X_train_scaled, columns=X_train.columns)\n",
    "# transform the testing data using the fitted scaler\n",
    "X_test_scaled = scaler.transform(X_test)\n",
    "X_test_scaled = pd.DataFrame(X_test_scaled, columns=X_test.columns)"
   ]
  },
  {
   "cell_type": "code",
   "execution_count": 172,
   "metadata": {},
   "outputs": [
    {
     "data": {
      "text/html": [
       "<div>\n",
       "<style scoped>\n",
       "    .dataframe tbody tr th:only-of-type {\n",
       "        vertical-align: middle;\n",
       "    }\n",
       "\n",
       "    .dataframe tbody tr th {\n",
       "        vertical-align: top;\n",
       "    }\n",
       "\n",
       "    .dataframe thead th {\n",
       "        text-align: right;\n",
       "    }\n",
       "</style>\n",
       "<table border=\"1\" class=\"dataframe\">\n",
       "  <thead>\n",
       "    <tr style=\"text-align: right;\">\n",
       "      <th></th>\n",
       "      <th>Chins</th>\n",
       "      <th>Situps</th>\n",
       "      <th>Jumps</th>\n",
       "    </tr>\n",
       "  </thead>\n",
       "  <tbody>\n",
       "    <tr>\n",
       "      <th>0</th>\n",
       "      <td>0.658492</td>\n",
       "      <td>0.989014</td>\n",
       "      <td>0.744878</td>\n",
       "    </tr>\n",
       "    <tr>\n",
       "      <th>1</th>\n",
       "      <td>-0.291256</td>\n",
       "      <td>-0.650984</td>\n",
       "      <td>-0.638295</td>\n",
       "    </tr>\n",
       "    <tr>\n",
       "      <th>2</th>\n",
       "      <td>-0.671155</td>\n",
       "      <td>-0.289883</td>\n",
       "      <td>-0.602369</td>\n",
       "    </tr>\n",
       "    <tr>\n",
       "      <th>3</th>\n",
       "      <td>1.418290</td>\n",
       "      <td>1.605894</td>\n",
       "      <td>3.169921</td>\n",
       "    </tr>\n",
       "    <tr>\n",
       "      <th>4</th>\n",
       "      <td>1.038391</td>\n",
       "      <td>1.214702</td>\n",
       "      <td>-0.009580</td>\n",
       "    </tr>\n",
       "    <tr>\n",
       "      <th>5</th>\n",
       "      <td>-1.430953</td>\n",
       "      <td>-0.515571</td>\n",
       "      <td>-0.243103</td>\n",
       "    </tr>\n",
       "    <tr>\n",
       "      <th>6</th>\n",
       "      <td>-1.051054</td>\n",
       "      <td>-1.267864</td>\n",
       "      <td>-0.871818</td>\n",
       "    </tr>\n",
       "    <tr>\n",
       "      <th>7</th>\n",
       "      <td>-1.620903</td>\n",
       "      <td>-1.418323</td>\n",
       "      <td>-0.422736</td>\n",
       "    </tr>\n",
       "    <tr>\n",
       "      <th>8</th>\n",
       "      <td>1.038391</td>\n",
       "      <td>0.838556</td>\n",
       "      <td>-0.602369</td>\n",
       "    </tr>\n",
       "    <tr>\n",
       "      <th>9</th>\n",
       "      <td>0.468542</td>\n",
       "      <td>0.989014</td>\n",
       "      <td>0.834694</td>\n",
       "    </tr>\n",
       "    <tr>\n",
       "      <th>10</th>\n",
       "      <td>0.468542</td>\n",
       "      <td>-0.650984</td>\n",
       "      <td>0.493392</td>\n",
       "    </tr>\n",
       "    <tr>\n",
       "      <th>11</th>\n",
       "      <td>-0.671155</td>\n",
       "      <td>-1.117405</td>\n",
       "      <td>-0.764038</td>\n",
       "    </tr>\n",
       "    <tr>\n",
       "      <th>12</th>\n",
       "      <td>0.278593</td>\n",
       "      <td>1.289931</td>\n",
       "      <td>0.116163</td>\n",
       "    </tr>\n",
       "    <tr>\n",
       "      <th>13</th>\n",
       "      <td>-1.051054</td>\n",
       "      <td>-0.650984</td>\n",
       "      <td>-0.566442</td>\n",
       "    </tr>\n",
       "    <tr>\n",
       "      <th>14</th>\n",
       "      <td>1.418290</td>\n",
       "      <td>-0.365113</td>\n",
       "      <td>-0.638295</td>\n",
       "    </tr>\n",
       "  </tbody>\n",
       "</table>\n",
       "</div>"
      ],
      "text/plain": [
       "       Chins    Situps     Jumps\n",
       "0   0.658492  0.989014  0.744878\n",
       "1  -0.291256 -0.650984 -0.638295\n",
       "2  -0.671155 -0.289883 -0.602369\n",
       "3   1.418290  1.605894  3.169921\n",
       "4   1.038391  1.214702 -0.009580\n",
       "5  -1.430953 -0.515571 -0.243103\n",
       "6  -1.051054 -1.267864 -0.871818\n",
       "7  -1.620903 -1.418323 -0.422736\n",
       "8   1.038391  0.838556 -0.602369\n",
       "9   0.468542  0.989014  0.834694\n",
       "10  0.468542 -0.650984  0.493392\n",
       "11 -0.671155 -1.117405 -0.764038\n",
       "12  0.278593  1.289931  0.116163\n",
       "13 -1.051054 -0.650984 -0.566442\n",
       "14  1.418290 -0.365113 -0.638295"
      ]
     },
     "execution_count": 172,
     "metadata": {},
     "output_type": "execute_result"
    }
   ],
   "source": [
    "X_train_scaled"
   ]
  },
  {
   "cell_type": "code",
   "execution_count": 176,
   "metadata": {
    "scrolled": true
   },
   "outputs": [
    {
     "name": "stdout",
     "output_type": "stream",
     "text": [
      "('Chins',)\n",
      "('Situps',)\n",
      "('Jumps',)\n",
      "('Chins', 'Situps')\n",
      "('Chins', 'Jumps')\n",
      "('Situps', 'Jumps')\n",
      "('Chins', 'Situps', 'Jumps')\n",
      "Best combination of features: ('Jumps',)\n",
      "Best MSE: 732.6108451581872\n",
      "Best RMSE: 27.066784906194293\n"
     ]
    }
   ],
   "source": [
    "import itertools\n",
    "import numpy as np\n",
    "from sklearn.metrics import mean_squared_error\n",
    "\n",
    "def evaluate_model(X_train_scaled, X_test_scaled , y_train, y_test):\n",
    "    model = LinearRegression()\n",
    "    model.fit(X_train_scaled , y_train)\n",
    "\n",
    "    y_pred_test = model.predict(X_test_scaled)\n",
    "    mse_test = mean_squared_error(y_test, y_pred_test)\n",
    "    rmse_test = np.sqrt(mse_test)\n",
    "    \n",
    "    return mse_test, rmse_test\n",
    "\n",
    "columns = X.columns.tolist()\n",
    "best_rmse = float('inf')\n",
    "best_combination = None\n",
    "\n",
    "for i in range(1, len(columns) + 1):\n",
    "    for combination in itertools.combinations(columns, i):\n",
    "        print(combination)\n",
    "        X_train_subset = X_train_scaled[list(combination)]\n",
    "        X_test_subset = X_test_scaled[list(combination)]\n",
    "        \n",
    "        mse, rmse = evaluate_model(X_train_subset, X_test_subset, y_train, y_test)\n",
    "        \n",
    "        if rmse < best_rmse:\n",
    "            best_mse = mse\n",
    "            best_rmse = rmse\n",
    "            best_combination = combination\n",
    "\n",
    "print(\"Best combination of features:\", best_combination)\n",
    "print(\"Best MSE:\", best_mse)\n",
    "print(\"Best RMSE:\", best_rmse)"
   ]
  },
  {
   "cell_type": "code",
   "execution_count": 181,
   "metadata": {},
   "outputs": [],
   "source": [
    "from sklearn.model_selection import train_test_split\n",
    "X_train, X_test, y_train, y_test = train_test_split(X, y_waist, random_state = 18)"
   ]
  },
  {
   "cell_type": "code",
   "execution_count": 182,
   "metadata": {},
   "outputs": [
    {
     "name": "stdout",
     "output_type": "stream",
     "text": [
      "('Chins',)\n",
      "('Situps',)\n",
      "('Jumps',)\n",
      "('Chins', 'Situps')\n",
      "('Chins', 'Jumps')\n",
      "('Situps', 'Jumps')\n",
      "('Chins', 'Situps', 'Jumps')\n",
      "Best combination of features: ('Jumps',)\n",
      "Best MSE: 2.6426103545534287\n",
      "Best RMSE: 1.6256107635450219\n"
     ]
    }
   ],
   "source": [
    "import itertools\n",
    "import numpy as np\n",
    "from sklearn.metrics import mean_squared_error\n",
    "\n",
    "def evaluate_model(X_train_scaled, X_test_scaled , y_train, y_test):\n",
    "    model = LinearRegression()\n",
    "    model.fit(X_train_scaled , y_train)\n",
    "\n",
    "    y_pred_test = model.predict(X_test_scaled)\n",
    "    mse_test = mean_squared_error(y_test, y_pred_test)\n",
    "    rmse_test = np.sqrt(mse_test)\n",
    "    \n",
    "    return mse_test, rmse_test\n",
    "\n",
    "columns = X.columns.tolist()\n",
    "best_rmse = float('inf')\n",
    "best_combination = None\n",
    "\n",
    "for i in range(1, len(columns) + 1):\n",
    "    for combination in itertools.combinations(columns, i):\n",
    "        print(combination)\n",
    "        X_train_subset = X_train_scaled[list(combination)]\n",
    "        X_test_subset = X_test_scaled[list(combination)]\n",
    "        \n",
    "        mse, rmse = evaluate_model(X_train_subset, X_test_subset, y_train, y_test)\n",
    "        \n",
    "        if rmse < best_rmse:\n",
    "            best_mse = mse\n",
    "            best_rmse = rmse\n",
    "            best_combination = combination\n",
    "\n",
    "print(\"Best combination of features:\", best_combination)\n",
    "print(\"Best MSE:\", best_mse)\n",
    "print(\"Best RMSE:\", best_rmse)"
   ]
  },
  {
   "cell_type": "code",
   "execution_count": 185,
   "metadata": {},
   "outputs": [],
   "source": [
    "from sklearn.model_selection import train_test_split\n",
    "X_train, X_test, y_train, y_test = train_test_split(X, y_pulse, random_state = 18)"
   ]
  },
  {
   "cell_type": "code",
   "execution_count": 186,
   "metadata": {},
   "outputs": [
    {
     "name": "stdout",
     "output_type": "stream",
     "text": [
      "('Chins',)\n",
      "('Situps',)\n",
      "('Jumps',)\n",
      "('Chins', 'Situps')\n",
      "('Chins', 'Jumps')\n",
      "('Situps', 'Jumps')\n",
      "('Chins', 'Situps', 'Jumps')\n",
      "Best combination of features: ('Jumps',)\n",
      "Best MSE: 78.83773510409557\n",
      "Best RMSE: 8.87906161168485\n"
     ]
    }
   ],
   "source": [
    "import itertools\n",
    "import numpy as np\n",
    "from sklearn.metrics import mean_squared_error\n",
    "\n",
    "def evaluate_model(X_train_scaled, X_test_scaled , y_train, y_test):\n",
    "    model = LinearRegression()\n",
    "    model.fit(X_train_scaled , y_train)\n",
    "\n",
    "    y_pred_test = model.predict(X_test_scaled)\n",
    "    mse_test = mean_squared_error(y_test, y_pred_test)\n",
    "    rmse_test = np.sqrt(mse_test)\n",
    "    \n",
    "    return mse_test, rmse_test\n",
    "\n",
    "columns = X.columns.tolist()\n",
    "best_rmse = float('inf')\n",
    "best_combination = None\n",
    "\n",
    "for i in range(1, len(columns) + 1):\n",
    "    for combination in itertools.combinations(columns, i):\n",
    "        print(combination)\n",
    "        X_train_subset = X_train_scaled[list(combination)]\n",
    "        X_test_subset = X_test_scaled[list(combination)]\n",
    "        \n",
    "        mse, rmse = evaluate_model(X_train_subset, X_test_subset, y_train, y_test)\n",
    "        \n",
    "        if rmse < best_rmse:\n",
    "            best_mse = mse\n",
    "            best_rmse = rmse\n",
    "            best_combination = combination\n",
    "\n",
    "print(\"Best combination of features:\", best_combination)\n",
    "print(\"Best MSE:\", best_mse)\n",
    "print(\"Best RMSE:\", best_rmse)"
   ]
  },
  {
   "cell_type": "code",
   "execution_count": null,
   "metadata": {},
   "outputs": [],
   "source": [
    "print(\"Olivier est le meilleur\")"
   ]
  }
 ],
 "metadata": {
  "kernelspec": {
   "display_name": "Python 3 (ipykernel)",
   "language": "python",
   "name": "python3"
  },
  "language_info": {
   "codemirror_mode": {
    "name": "ipython",
    "version": 3
   },
   "file_extension": ".py",
   "mimetype": "text/x-python",
   "name": "python",
   "nbconvert_exporter": "python",
   "pygments_lexer": "ipython3",
   "version": "3.9.13"
  },
  "toc": {
   "base_numbering": 1,
   "nav_menu": {},
   "number_sections": true,
   "sideBar": true,
   "skip_h1_title": false,
   "title_cell": "Table of Contents",
   "title_sidebar": "Contents",
   "toc_cell": false,
   "toc_position": {},
   "toc_section_display": true,
   "toc_window_display": false
  },
  "varInspector": {
   "cols": {
    "lenName": 16,
    "lenType": 16,
    "lenVar": 40
   },
   "kernels_config": {
    "python": {
     "delete_cmd_postfix": "",
     "delete_cmd_prefix": "del ",
     "library": "var_list.py",
     "varRefreshCmd": "print(var_dic_list())"
    },
    "r": {
     "delete_cmd_postfix": ") ",
     "delete_cmd_prefix": "rm(",
     "library": "var_list.r",
     "varRefreshCmd": "cat(var_dic_list()) "
    }
   },
   "types_to_exclude": [
    "module",
    "function",
    "builtin_function_or_method",
    "instance",
    "_Feature"
   ],
   "window_display": false
  }
 },
 "nbformat": 4,
 "nbformat_minor": 4
}
